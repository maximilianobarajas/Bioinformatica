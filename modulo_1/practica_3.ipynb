{
 "cells": [
  {
   "cell_type": "markdown",
   "id": "83ab9098-c0ef-47d1-b0e4-4419e4cf5712",
   "metadata": {},
   "source": [
    "# Práctica III de Bioinformática con BioPython\n",
    "En esta práctica nos concentraremos en la composición de cadenas de ADN."
   ]
  },
  {
   "cell_type": "code",
   "execution_count": 1,
   "id": "4306d94d-e991-4f49-87cc-78a223d522d4",
   "metadata": {},
   "outputs": [],
   "source": [
    "from Bio.Seq import Seq\n",
    "from Bio.SeqUtils import gc_fraction"
   ]
  },
  {
   "cell_type": "code",
   "execution_count": 2,
   "id": "2a81b94d-1bbc-47be-842f-3a0b44ad096e",
   "metadata": {},
   "outputs": [
    {
     "data": {
      "text/plain": [
       "Seq('ATGATCTCGTAA')"
      ]
     },
     "execution_count": 2,
     "metadata": {},
     "output_type": "execute_result"
    }
   ],
   "source": [
    "dna_seq=Seq(\"ATGATCTCGTAA\")\n",
    "dna_seq"
   ]
  },
  {
   "cell_type": "markdown",
   "id": "d9760662-866f-4d4f-b734-b1cfa1ea5de4",
   "metadata": {},
   "source": [
    "Inicialmente calcularemos la cantidad relativa de GC en nuestra cadena"
   ]
  },
  {
   "cell_type": "code",
   "execution_count": 3,
   "id": "89b31e80-1839-4fc5-a6de-f1db04ba122c",
   "metadata": {},
   "outputs": [
    {
     "data": {
      "text/plain": [
       "0.3333333333333333"
      ]
     },
     "execution_count": 3,
     "metadata": {},
     "output_type": "execute_result"
    }
   ],
   "source": [
    "gc_fraction(dna_seq)"
   ]
  },
  {
   "cell_type": "code",
   "execution_count": 4,
   "id": "61de2e6f-9673-4375-a15a-0f98d44ae5aa",
   "metadata": {},
   "outputs": [
    {
     "data": {
      "text/plain": [
       "4"
      ]
     },
     "execution_count": 4,
     "metadata": {},
     "output_type": "execute_result"
    }
   ],
   "source": [
    "dna_seq.count(\"A\")"
   ]
  },
  {
   "cell_type": "markdown",
   "id": "d183e6af-257b-48be-ab52-0ef664eb3a17",
   "metadata": {},
   "source": [
    "Podemos crear una función propia con el mismo objetivo"
   ]
  },
  {
   "cell_type": "code",
   "execution_count": 5,
   "id": "40eb8b7f-928f-427a-8489-608f0a21b1a8",
   "metadata": {},
   "outputs": [],
   "source": [
    "def gc_contenido(seq):\n",
    "    result = float(seq.count(\"G\") + seq.count(\"C\"))/len(seq)\n",
    "    return result"
   ]
  },
  {
   "cell_type": "code",
   "execution_count": 6,
   "id": "89cde172-7848-4ef9-8a67-26cecf525fdc",
   "metadata": {},
   "outputs": [
    {
     "data": {
      "text/plain": [
       "0.3333333333333333"
      ]
     },
     "execution_count": 6,
     "metadata": {},
     "output_type": "execute_result"
    }
   ],
   "source": [
    "gc_contenido(dna_seq)"
   ]
  },
  {
   "cell_type": "markdown",
   "id": "5a57b889-b36c-4ae3-9eb1-6863e22478ee",
   "metadata": {},
   "source": [
    "Podemos realizar lo mismo para AT"
   ]
  },
  {
   "cell_type": "code",
   "execution_count": 7,
   "id": "9f879810-9d93-4f0f-9aae-0fa43a404743",
   "metadata": {},
   "outputs": [],
   "source": [
    "def at_contenido(seq):\n",
    "    result = float(seq.count(\"A\") + seq.count(\"T\"))/len(seq)\n",
    "    return result"
   ]
  },
  {
   "cell_type": "code",
   "execution_count": 8,
   "id": "265eafd7-c828-4942-bf09-8e6498ee7c61",
   "metadata": {},
   "outputs": [
    {
     "data": {
      "text/plain": [
       "0.6666666666666666"
      ]
     },
     "execution_count": 8,
     "metadata": {},
     "output_type": "execute_result"
    }
   ],
   "source": [
    "at_contenido(dna_seq)"
   ]
  },
  {
   "cell_type": "markdown",
   "id": "0341fab3-274b-4fee-8183-1b27ff0c57d4",
   "metadata": {},
   "source": [
    "## Punto de Fusión del ADN\n",
    "El análisis de la composición de una cadena es vital dado que nos ayuda a hacer ciertas inferencias sobre las características de la misma como lo es el punto de fusión el cuál esta estrechamente relacionado con la cantidad de GC."
   ]
  },
  {
   "cell_type": "code",
   "execution_count": 9,
   "id": "8a5659ec-16a6-4312-ab57-0c3d227dc39e",
   "metadata": {},
   "outputs": [],
   "source": [
    "from Bio.SeqUtils import MeltingTemp as mt"
   ]
  },
  {
   "cell_type": "code",
   "execution_count": 10,
   "id": "620d50fe-2fde-46b9-b4fc-e102ed2c199e",
   "metadata": {},
   "outputs": [
    {
     "data": {
      "text/plain": [
       "Seq('ATGATCTCGTAA')"
      ]
     },
     "execution_count": 10,
     "metadata": {},
     "output_type": "execute_result"
    }
   ],
   "source": [
    "dna_seq"
   ]
  },
  {
   "cell_type": "code",
   "execution_count": 11,
   "id": "8acb9ada-031c-40c6-aa18-6c377dbd9f9e",
   "metadata": {},
   "outputs": [
    {
     "data": {
      "text/plain": [
       "0.3333333333333333"
      ]
     },
     "execution_count": 11,
     "metadata": {},
     "output_type": "execute_result"
    }
   ],
   "source": [
    "gc_fraction(dna_seq)"
   ]
  },
  {
   "cell_type": "code",
   "execution_count": 12,
   "id": "9499fb2c-4d4d-45b2-a85c-614d96e84a58",
   "metadata": {},
   "outputs": [
    {
     "data": {
      "text/plain": [
       "32.0"
      ]
     },
     "execution_count": 12,
     "metadata": {},
     "output_type": "execute_result"
    }
   ],
   "source": [
    "#Podemos calcular el punto de fusión de la cadena con la regla de Wallace\n",
    "mt.Tm_Wallace(dna_seq)"
   ]
  },
  {
   "cell_type": "code",
   "execution_count": 13,
   "id": "5768203d-120c-4a49-9ee5-364489bd6bc4",
   "metadata": {},
   "outputs": [
    {
     "data": {
      "text/plain": [
       "23.569568738644566"
      ]
     },
     "execution_count": 13,
     "metadata": {},
     "output_type": "execute_result"
    }
   ],
   "source": [
    "#Podemos calcular el punto de fusión de la cadena con el contenido de GC\n",
    "mt.Tm_GC(dna_seq)"
   ]
  },
  {
   "cell_type": "markdown",
   "id": "92d6db32-cdda-4945-ac7a-49bc47df58e7",
   "metadata": {},
   "source": [
    "Biopython también nos ofrece herramientas para calcular el sesgo de GC como sigue:"
   ]
  },
  {
   "cell_type": "code",
   "execution_count": 14,
   "id": "55aeabd3-2bda-48ad-adf0-2a15696937c0",
   "metadata": {},
   "outputs": [],
   "source": [
    "from Bio.SeqUtils import GC123,GC_skew,xGC_skew"
   ]
  },
  {
   "cell_type": "code",
   "execution_count": 15,
   "id": "0da58779-4056-4af6-bb65-245f0d808118",
   "metadata": {},
   "outputs": [
    {
     "data": {
      "text/plain": [
       "Seq('ATGATCTCGTAA')"
      ]
     },
     "execution_count": 15,
     "metadata": {},
     "output_type": "execute_result"
    }
   ],
   "source": [
    "dna_seq"
   ]
  },
  {
   "cell_type": "code",
   "execution_count": 16,
   "id": "0e49f890-efd9-441d-96e5-4bf2da5ca996",
   "metadata": {},
   "outputs": [
    {
     "data": {
      "text/plain": [
       "(33.333333333333336, 0.0, 25.0, 75.0)"
      ]
     },
     "execution_count": 16,
     "metadata": {},
     "output_type": "execute_result"
    }
   ],
   "source": [
    "GC123(dna_seq)"
   ]
  },
  {
   "cell_type": "markdown",
   "id": "5c900bc1-6f8c-4078-afcc-dfa0de603919",
   "metadata": {},
   "source": [
    "\n",
    "El GC skew, o sesgo GC, es una medida utilizada en genómica para analizar la distribución de las bases nitrogenadas guanina (G) y citosina (C) en una cadena de ADN. Se calcula restando el número de guaninas del número de citosinas y dividiendo ese resultado por la suma de guaninas y citosinas. La fórmula es:\n",
    "\n",
    " $$\\text{GC Skew} = \\frac{G - C}{G + C} $$\n",
    "\n",
    "El GC skew puede ser útil en diversos contextos, incluyendo:\n",
    "\n",
    "Identificación de origen de replicación: El GC skew puede revelar la ubicación del origen de replicación en el ADN bacteriano, ya que tiende a mostrar un cambio brusco en el sesgo cerca de este punto.\n",
    "\n",
    "Análisis genómico: Puede proporcionar información sobre la composición de bases en regiones específicas del genoma, lo que puede estar relacionado con la estructura y función de genes.\n",
    "\n",
    "Estudio de la evolución: Cambios en el GC skew a lo largo de un genoma pueden ofrecer pistas sobre eventos evolutivos y presiones selectivas.\n",
    "\n",
    "Detección de islas CpG: Puede utilizarse para identificar regiones del genoma que contienen una alta densidad de dinucleótidos CpG, lo cual es relevante en epigenética y regulación génica.\n",
    "\n",
    "En resumen, el GC skew es una herramienta valiosa en genómica para analizar patrones de composición de bases en el ADN y obtener información sobre la replicación, evolución y características genómicas."
   ]
  },
  {
   "cell_type": "code",
   "execution_count": 17,
   "id": "33e87562-1191-40ce-afa0-5c385ad1beb1",
   "metadata": {},
   "outputs": [
    {
     "data": {
      "text/plain": [
       "[0.0, 0.0]"
      ]
     },
     "execution_count": 17,
     "metadata": {},
     "output_type": "execute_result"
    }
   ],
   "source": [
    "GC_skew(dna_seq,10)"
   ]
  },
  {
   "cell_type": "code",
   "execution_count": 25,
   "id": "153c8790-8c7d-4495-87bc-2265023f6ef4",
   "metadata": {},
   "outputs": [
    {
     "data": {
      "text/plain": [
       "[0.0]"
      ]
     },
     "execution_count": 25,
     "metadata": {},
     "output_type": "execute_result"
    }
   ],
   "source": [
    "GC_skew(\"ATGGGGTCCCGCTC\")"
   ]
  },
  {
   "cell_type": "code",
   "execution_count": 26,
   "id": "538834a5-f07a-4f6f-a538-fbf258c79d85",
   "metadata": {},
   "outputs": [],
   "source": [
    "xGC_skew(dna_seq)"
   ]
  },
  {
   "attachments": {
    "826ae746-9563-4567-a9ad-145b33b93d3e.png": {
     "image/png": "[encoded data removed]"
    }
   },
   "cell_type": "markdown",
   "id": "241b9243-6b52-41ba-bbf5-8c8e51a6642f",
   "metadata": {},
   "source": [
    "![skew.png](attachment:826ae746-9563-4567-a9ad-145b33b93d3e.png)"
   ]
  },
  {
   "cell_type": "markdown",
   "id": "8544360c-62d5-4129-b86e-9428c9461164",
   "metadata": {},
   "source": [
    "## Subsecuencias\n",
    "En esta parte analizaremos como encontrar subsecuencias de ADN en una cadena ya dada."
   ]
  },
  {
   "cell_type": "code",
   "execution_count": 28,
   "id": "edaea556-6bfe-48bb-bcad-77d1e30565b4",
   "metadata": {},
   "outputs": [],
   "source": [
    "from Bio.SeqUtils import nt_search"
   ]
  },
  {
   "cell_type": "code",
   "execution_count": 32,
   "id": "dd9f455b-8081-4201-b817-354fe56c8aac",
   "metadata": {},
   "outputs": [],
   "source": [
    "main_seq = Seq(\"ACTATT\")\n",
    "subseq = Seq(\"ATT\")"
   ]
  },
  {
   "cell_type": "code",
   "execution_count": 33,
   "id": "c07882bf-d917-45b0-b441-813edb644f7e",
   "metadata": {},
   "outputs": [
    {
     "data": {
      "text/plain": [
       "['ATT', 3]"
      ]
     },
     "execution_count": 33,
     "metadata": {},
     "output_type": "execute_result"
    }
   ],
   "source": [
    "nt_search(str(main_seq), str(subseq))"
   ]
  }
 ],
 "metadata": {
  "kernelspec": {
   "display_name": "Python 3 (ipykernel)",
   "language": "python",
   "name": "python3"
  },
  "language_info": {
   "codemirror_mode": {
    "name": "ipython",
    "version": 3
   },
   "file_extension": ".py",
   "mimetype": "text/x-python",
   "name": "python",
   "nbconvert_exporter": "python",
   "pygments_lexer": "ipython3",
   "version": "3.10.12"
  }
 },
 "nbformat": 4,
 "nbformat_minor": 5
}
