{
 "cells": [
  {
   "cell_type": "markdown",
   "id": "807e7bc3-568b-4791-8c19-4cf465fb6040",
   "metadata": {},
   "source": [
    "# Bioinformática con Biopython\n",
    "A lo largo de estas notas analizaremos el uso de biopython para bioinformática y sus generalidades."
   ]
  },
  {
   "cell_type": "code",
   "execution_count": 1,
   "id": "e83849f8-350e-40fc-9fb4-5e4b78b35026",
   "metadata": {},
   "outputs": [],
   "source": [
    "#Inicialmente importamos biopython\n",
    "import Bio"
   ]
  },
  {
   "cell_type": "markdown",
   "id": "cfedf7f6-63bc-442c-ad9b-488b65e2c55b",
   "metadata": {},
   "source": [
    "Podemos observar las herramientas disponibles en biopython como a continuación:"
   ]
  },
  {
   "cell_type": "code",
   "execution_count": 2,
   "id": "2fc493bc-f917-4d75-974d-0c5a61d4fd2d",
   "metadata": {},
   "outputs": [
    {
     "data": {
      "text/plain": [
       "['BiopythonDeprecationWarning',\n",
       " 'BiopythonExperimentalWarning',\n",
       " 'BiopythonParserWarning',\n",
       " 'BiopythonWarning',\n",
       " 'MissingExternalDependencyError',\n",
       " 'MissingPythonDependencyError',\n",
       " 'StreamModeError',\n",
       " '__builtins__',\n",
       " '__cached__',\n",
       " '__doc__',\n",
       " '__file__',\n",
       " '__loader__',\n",
       " '__name__',\n",
       " '__package__',\n",
       " '__path__',\n",
       " '__spec__',\n",
       " '__version__',\n",
       " '_parent_dir',\n",
       " 'os',\n",
       " 'warnings']"
      ]
     },
     "execution_count": 2,
     "metadata": {},
     "output_type": "execute_result"
    }
   ],
   "source": [
    "dir(Bio)"
   ]
  },
  {
   "cell_type": "markdown",
   "id": "8ef4008c-5191-4b16-adec-a82109e301f9",
   "metadata": {},
   "source": [
    "## Secuencias de bases nitrogenadas\n",
    "Podemos trabajar con secuencias en forma de cadenas de texto con Biopython como a continuación:"
   ]
  },
  {
   "cell_type": "code",
   "execution_count": 6,
   "id": "50b46e95-5208-4edb-9bc0-58168e2054c9",
   "metadata": {},
   "outputs": [],
   "source": [
    "#Importamos el objeto Seq\n",
    "from Bio.Seq import Seq"
   ]
  },
  {
   "cell_type": "markdown",
   "id": "2c0ed323-59f4-4a52-a2bf-77df48231d69",
   "metadata": {},
   "source": [
    "A continuación instanciamos el objeto Seq:"
   ]
  },
  {
   "cell_type": "code",
   "execution_count": 7,
   "id": "a4ac854f-f654-4aad-90d2-c77b8e4a94b4",
   "metadata": {},
   "outputs": [],
   "source": [
    "secuencia_1=Seq('AAGCTGATCGCTAAGCTGATCGCTAAGCTGATCGCT') "
   ]
  },
  {
   "cell_type": "markdown",
   "id": "2f4f8afe-6a42-4608-9910-1d9d71570fa2",
   "metadata": {},
   "source": [
    "Podemos realizar distintas operaciones con los objetos secuencia:"
   ]
  },
  {
   "cell_type": "code",
   "execution_count": 9,
   "id": "ac53e8e2-dc4f-422d-92d3-bbed177b9a9f",
   "metadata": {},
   "outputs": [
    {
     "data": {
      "text/plain": [
       "4"
      ]
     },
     "execution_count": 9,
     "metadata": {},
     "output_type": "execute_result"
    }
   ],
   "source": [
    "#Podemos buscar segmentos específicos en las secuencias:\n",
    "secuencia_1.find(\"TGA\")"
   ]
  },
  {
   "cell_type": "code",
   "execution_count": 10,
   "id": "dd601c1a-5105-4c4f-9e57-e0f439bb884e",
   "metadata": {},
   "outputs": [
    {
     "data": {
      "text/plain": [
       "3"
      ]
     },
     "execution_count": 10,
     "metadata": {},
     "output_type": "execute_result"
    }
   ],
   "source": [
    "#De igual manera podemos contar la frecuencia de sub-secuencias:\n",
    "secuencia_1.count(\"TGA\")"
   ]
  },
  {
   "cell_type": "markdown",
   "id": "dbd066f4-7078-49a7-b3e7-322e9536049d",
   "metadata": {},
   "source": [
    "Por otra parte si estamos trabajando con una secuencia de nucleótidos podemos realizar las siguientes operaciones:"
   ]
  },
  {
   "cell_type": "code",
   "execution_count": 11,
   "id": "67a9cb1c-9ae6-42f2-ab76-9a521866cd30",
   "metadata": {},
   "outputs": [],
   "source": [
    "secuencia_2=Seq(\"AGTACACTGGT\")"
   ]
  },
  {
   "cell_type": "markdown",
   "id": "40e0def0-cb46-4e15-b485-5a035dffb519",
   "metadata": {},
   "source": [
    "Podemos buscar el complemento y el complemento reverso:"
   ]
  },
  {
   "cell_type": "code",
   "execution_count": 13,
   "id": "db580a11-244b-451a-a5e7-80bb7604dd7b",
   "metadata": {},
   "outputs": [
    {
     "data": {
      "text/plain": [
       "Seq('TCATGTGACCA')"
      ]
     },
     "execution_count": 13,
     "metadata": {},
     "output_type": "execute_result"
    }
   ],
   "source": [
    "secuencia_2.complement()"
   ]
  },
  {
   "cell_type": "code",
   "execution_count": 15,
   "id": "294246bf-8e86-40d0-b2d5-83e0243904e1",
   "metadata": {},
   "outputs": [
    {
     "data": {
      "text/plain": [
       "Seq('ACCAGTGTACT')"
      ]
     },
     "execution_count": 15,
     "metadata": {},
     "output_type": "execute_result"
    }
   ],
   "source": [
    "secuencia_2.reverse_complement()"
   ]
  },
  {
   "cell_type": "markdown",
   "id": "27873cab-0322-4364-942a-cf1a6e78330d",
   "metadata": {},
   "source": [
    "De igual manera podemos obtener el resultado del proceso de transcripción, esto se realiza de la siguiente manera:"
   ]
  },
  {
   "cell_type": "code",
   "execution_count": 18,
   "id": "e5922c98-2110-481e-b47c-3792eb25137b",
   "metadata": {},
   "outputs": [
    {
     "data": {
      "text/plain": [
       "Seq('AGUACACUGGU')"
      ]
     },
     "execution_count": 18,
     "metadata": {},
     "output_type": "execute_result"
    }
   ],
   "source": [
    "secuencia_2_transcrita=secuencia_2.transcribe()\n",
    "secuencia_2_transcrita"
   ]
  },
  {
   "cell_type": "markdown",
   "id": "b7829c0b-ec56-41ad-bf0e-18263a2e1786",
   "metadata": {},
   "source": [
    "Notemos que se reemplaza la timina por uracilo, de igual manera dada una secuencia transcrita podemos obtener la secuencia original como sigue:"
   ]
  },
  {
   "cell_type": "code",
   "execution_count": 19,
   "id": "e4f0bc8d-75ac-483a-8e47-5618af79b7ef",
   "metadata": {},
   "outputs": [
    {
     "data": {
      "text/plain": [
       "Seq('AGTACACTGGT')"
      ]
     },
     "execution_count": 19,
     "metadata": {},
     "output_type": "execute_result"
    }
   ],
   "source": [
    "secuencia_2_transcrita.back_transcribe()"
   ]
  },
  {
   "cell_type": "markdown",
   "id": "e4b601f6-bc3f-4aef-9f10-9f637cd9e6c3",
   "metadata": {},
   "source": [
    "Además de la transcripción podemos realizar la traducción a ARN, esta se realiza de la siguiente manera:"
   ]
  },
  {
   "cell_type": "code",
   "execution_count": 20,
   "id": "f3ad38e7-4bef-4000-86be-e8fd219b4727",
   "metadata": {},
   "outputs": [
    {
     "data": {
      "text/plain": [
       "Seq('MAIVMGR*KGAR*')"
      ]
     },
     "execution_count": 20,
     "metadata": {},
     "output_type": "execute_result"
    }
   ],
   "source": [
    "arn_mensajero = Seq(\"AUGGCCAUUGUAAUGGGCCGCUGAAAGGGUGCCCGAUAG\")\n",
    "arn_mensajero.translate()"
   ]
  },
  {
   "cell_type": "markdown",
   "id": "6705cb48-0ca5-4141-93db-0d13d43c1d6e",
   "metadata": {},
   "source": [
    "Finalmente podemos graficar la frecuencia en la que aparecen los distintos nucleótidos de una secuencia:"
   ]
  },
  {
   "cell_type": "code",
   "execution_count": 27,
   "id": "2cf95357-06a8-412d-a703-2711ce978b6c",
   "metadata": {},
   "outputs": [],
   "source": [
    "import matplotlib.pyplot as plt\n",
    "dna_sequence = \"AAGCTGATCGCTAAGCTGATCGCTAAGCTGATCGCTGAGC\"\n",
    "sequence = Seq(dna_sequence)\n",
    "#Calculamos la frecuencia de cada nucleótido\n",
    "nucleotide_freq = {\n",
    "    'A': sequence.count('A'),\n",
    "    'T': sequence.count('T'),\n",
    "    'C': sequence.count('C'),\n",
    "    'G': sequence.count('G')\n",
    "}"
   ]
  },
  {
   "cell_type": "code",
   "execution_count": 29,
   "id": "824a120f-57be-40c2-89bd-cc5b11b83dea",
   "metadata": {},
   "outputs": [
    {
     "data": {
      "image/png": "[encoded data removed]",
      "text/plain": [
       "<Figure size 640x480 with 1 Axes>"
      ]
     },
     "metadata": {},
     "output_type": "display_data"
    }
   ],
   "source": [
    "plt.pie(nucleotide_freq.values(), labels=nucleotide_freq.keys(), autopct='%1.1f%%', colors=['red', 'green', 'blue', 'yellow'])\n",
    "plt.title('Frecuencia del nucleótido en la secuencia')\n",
    "plt.show()"
   ]
  },
  {
   "cell_type": "code",
   "execution_count": 31,
   "id": "cf61a556-6a6e-47c3-b592-9fcc22d05dec",
   "metadata": {},
   "outputs": [
    {
     "data": {
      "image/png": "[encoded data removed]",
      "text/plain": [
       "<Figure size 640x480 with 1 Axes>"
      ]
     },
     "metadata": {},
     "output_type": "display_data"
    }
   ],
   "source": [
    "plt.bar(nucleotide_freq.keys(), nucleotide_freq.values(), color=['red', 'green', 'blue', 'yellow'])\n",
    "plt.title('Frecuencia del nucleótido en la secuencia')\n",
    "plt.xlabel('Nucleótidos')\n",
    "plt.ylabel('Frecuencia')\n",
    "plt.show()"
   ]
  },
  {
   "cell_type": "code",
   "execution_count": 34,
   "id": "0397e95e-8eff-4bd5-8724-c21a00eb2a86",
   "metadata": {},
   "outputs": [
    {
     "data": {
      "text/html": [
       "<div>\n",
       "<style scoped>\n",
       "    .dataframe tbody tr th:only-of-type {\n",
       "        vertical-align: middle;\n",
       "    }\n",
       "\n",
       "    .dataframe tbody tr th {\n",
       "        vertical-align: top;\n",
       "    }\n",
       "\n",
       "    .dataframe thead th {\n",
       "        text-align: right;\n",
       "    }\n",
       "</style>\n",
       "<table border=\"1\" class=\"dataframe\">\n",
       "  <thead>\n",
       "    <tr style=\"text-align: right;\">\n",
       "      <th></th>\n",
       "      <th>Nucleótido</th>\n",
       "      <th>Frecuencia</th>\n",
       "    </tr>\n",
       "  </thead>\n",
       "  <tbody>\n",
       "    <tr>\n",
       "      <th>0</th>\n",
       "      <td>A</td>\n",
       "      <td>10</td>\n",
       "    </tr>\n",
       "    <tr>\n",
       "      <th>1</th>\n",
       "      <td>T</td>\n",
       "      <td>9</td>\n",
       "    </tr>\n",
       "    <tr>\n",
       "      <th>2</th>\n",
       "      <td>C</td>\n",
       "      <td>10</td>\n",
       "    </tr>\n",
       "    <tr>\n",
       "      <th>3</th>\n",
       "      <td>G</td>\n",
       "      <td>11</td>\n",
       "    </tr>\n",
       "  </tbody>\n",
       "</table>\n",
       "</div>"
      ],
      "text/plain": [
       "  Nucleótido  Frecuencia\n",
       "0          A          10\n",
       "1          T           9\n",
       "2          C          10\n",
       "3          G          11"
      ]
     },
     "execution_count": 34,
     "metadata": {},
     "output_type": "execute_result"
    }
   ],
   "source": [
    "import pandas as pd\n",
    "df = pd.DataFrame(list(nucleotide_freq.items()), columns=['Nucleótido', 'Frecuencia'])\n",
    "df"
   ]
  }
 ],
 "metadata": {
  "kernelspec": {
   "display_name": "Python 3 (ipykernel)",
   "language": "python",
   "name": "python3"
  },
  "language_info": {
   "codemirror_mode": {
    "name": "ipython",
    "version": 3
   },
   "file_extension": ".py",
   "mimetype": "text/x-python",
   "name": "python",
   "nbconvert_exporter": "python",
   "pygments_lexer": "ipython3",
   "version": "3.10.12"
  }
 },
 "nbformat": 4,
 "nbformat_minor": 5
}
